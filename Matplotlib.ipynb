#### Histogram
```py
import matplotlib.pyplot as plt
import numpy as np
values = np.random.randn(1000)
plt.hist(values, cumulative=True, bins=256)
plt.title("Cumulative distribution function")
plt.xlabel("Value")
plt.ylabel("Cumulative Frequency")
plt.show()
```
